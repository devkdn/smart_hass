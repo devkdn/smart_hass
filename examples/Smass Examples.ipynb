{
 "cells": [
  {
   "cell_type": "code",
   "execution_count": 1,
   "metadata": {},
   "outputs": [],
   "source": [
    "import pandas as pd\n",
    "import json\n",
    "\n",
    "%matplotlib inline"
   ]
  },
  {
   "cell_type": "code",
   "execution_count": 2,
   "metadata": {},
   "outputs": [
    {
     "data": {
      "image/png": "[encoded data removed]",
      "text/plain": [
       "<matplotlib.figure.Figure at 0x110415198>"
      ]
     },
     "metadata": {},
     "output_type": "display_data"
    }
   ],
   "source": [
    "conf_file = '~/ownCloud/Github/home_automation/home_assistant/binary_sensors/obscure_events.yaml'\n",
    "index = 1\n",
    "target = 'sensor.hour_of_day'\n",
    "conditions = [\n",
    "    '--above 20 --below 22',\n",
    "    '--above 21',\n",
    "    '--below 6',\n",
    "    '--below 7',\n",
    "    '--below 8',\n",
    "    '--above 7 --below 10',\n",
    "    '--above 9 --below 21',\n",
    "]\n",
    "\n",
    "match_tuples = []\n",
    "for cond in conditions:\n",
    "    result = !smass bayes -si {index} -c {conf_file}  -te {target} {cond} -s\n",
    "    result_string = ''.join(result.fields()[0])\n",
    "    match_count = json.loads(result_string)[0]['total_matching']\n",
    "    \n",
    "    match_tuples.append((cond, match_count))\n",
    "    \n",
    "match_df = pd.DataFrame(match_tuples).set_index(0)\n",
    "match_df.plot(kind='bar');"
   ]
  },
  {
   "cell_type": "code",
   "execution_count": null,
   "metadata": {},
   "outputs": [],
   "source": []
  },
  {
   "cell_type": "code",
   "execution_count": null,
   "metadata": {},
   "outputs": [],
   "source": []
  }
 ],
 "metadata": {
  "kernelspec": {
   "display_name": "Python 3",
   "language": "python",
   "name": "python3"
  },
  "language_info": {
   "codemirror_mode": {
    "name": "ipython",
    "version": 3
   },
   "file_extension": ".py",
   "mimetype": "text/x-python",
   "name": "python",
   "nbconvert_exporter": "python",
   "pygments_lexer": "ipython3",
   "version": "3.5.2"
  }
 },
 "nbformat": 4,
 "nbformat_minor": 2
}
